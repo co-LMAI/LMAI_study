{
 "cells": [
  {
   "cell_type": "code",
   "execution_count": null,
   "metadata": {},
   "outputs": [],
   "source": [
    "import numpy as np\n",
    "\n",
    "class lr:\n",
    "    def __init__(self,eta,max_iter):\n",
    "        self.eta = eta\n",
    "        self.max_iter = max_iter\n",
    "\n",
    "    def sigmoid(self,z):\n",
    "        return 1/(1+np.exp(-z))\n",
    "    \n",
    "    def fit(self,x_tr,y_tr):\n",
    "        # 设为ndarry格式\n",
    "        x_tr = np.asarray(x_tr)\n",
    "        y_tr = np.asarray(y_tr)\n",
    "\n",
    "        # 增加偏置\n",
    "        x_tr = np.insert(x_tr,0,1,axis=1)\n",
    "        self.w = np.random.random(size = x_tr.shape[1])\n",
    "\n",
    "        # 使用矩阵计算梯度\n",
    "        for i in range(self.max_iter):\n",
    "            z = x_tr@self.w.T\n",
    "            g = (self.sigmoid(z)-y_tr).T@x_tr\n",
    "\n",
    "            # 更新权重\n",
    "            self.w += -self.eta*g\n",
    "\n",
    "        self.cof_ = self.w[1:]\n",
    "        self.interpre_ = self.w[0]\n",
    "        return self\n",
    "\n",
    "    def pre(self,x_te):\n",
    "        x_te = np.asarray(x_te)\n",
    "        # 增加偏置\n",
    "        x_te = np.insert(x_te,0,1,axis=1)\n",
    "\n",
    "        z = x_te@self.w.T\n",
    "        return np.where(self.sigmoid(z)>0.5,1,0)"
   ]
  },
  {
   "cell_type": "code",
   "execution_count": 136,
   "metadata": {},
   "outputs": [],
   "source": [
    "# 导入数据\n",
    "from sklearn.datasets import load_iris\n",
    "from sklearn.model_selection import train_test_split\n",
    "iris = load_iris()\n",
    "x,y  = iris.data,iris.target\n",
    "\n",
    "# 数据切分\n",
    "x_tr,x_te,y_tr,y_te = train_test_split(x[y!=2],y[y!=2],test_size=0.25,random_state=0)"
   ]
  },
  {
   "cell_type": "code",
   "execution_count": 137,
   "metadata": {},
   "outputs": [
    {
     "name": "stdout",
     "output_type": "stream",
     "text": [
      "[ -6.94158161 -18.45518251  27.68133612  11.80551614] -3.3051762616573344\n"
     ]
    }
   ],
   "source": [
    "test = lr(0.1,1000)\n",
    "\n",
    "test.fit(x_tr,y_tr)\n",
    "print(test.cof_,test.interpre_)\n",
    "y_hat = test.pre(x_te)"
   ]
  },
  {
   "cell_type": "code",
   "execution_count": 138,
   "metadata": {},
   "outputs": [
    {
     "data": {
      "text/plain": [
       "array([ True,  True,  True,  True,  True,  True,  True,  True,  True,\n",
       "        True,  True,  True,  True,  True,  True,  True,  True,  True,\n",
       "        True,  True,  True,  True,  True,  True,  True])"
      ]
     },
     "execution_count": 138,
     "metadata": {},
     "output_type": "execute_result"
    }
   ],
   "source": [
    "y_hat == y_te"
   ]
  }
 ],
 "metadata": {
  "kernelspec": {
   "display_name": "MLstudy",
   "language": "python",
   "name": "python3"
  },
  "language_info": {
   "codemirror_mode": {
    "name": "ipython",
    "version": 3
   },
   "file_extension": ".py",
   "mimetype": "text/x-python",
   "name": "python",
   "nbconvert_exporter": "python",
   "pygments_lexer": "ipython3",
   "version": "3.10.14"
  }
 },
 "nbformat": 4,
 "nbformat_minor": 2
}
